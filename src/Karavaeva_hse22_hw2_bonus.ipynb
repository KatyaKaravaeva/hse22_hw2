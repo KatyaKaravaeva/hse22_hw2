{
  "nbformat": 4,
  "nbformat_minor": 0,
  "metadata": {
    "colab": {
      "provenance": [],
      "collapsed_sections": []
    },
    "kernelspec": {
      "name": "python3",
      "display_name": "Python 3"
    },
    "language_info": {
      "name": "python"
    }
  },
  "cells": [
    {
      "cell_type": "markdown",
      "source": [
        "# Скачивание файлов близкородственной бактерии"
      ],
      "metadata": {
        "id": "9l4mfp8udffD"
      }
    },
    {
      "cell_type": "code",
      "execution_count": 75,
      "metadata": {
        "colab": {
          "base_uri": "https://localhost:8080/"
        },
        "id": "bGAKTNXRdDCt",
        "outputId": "84fbbea5-3b7e-476f-9312-108f9c7f06bb"
      },
      "outputs": [
        {
          "output_type": "stream",
          "name": "stdout",
          "text": [
            "\n",
            "Entrez Direct has been successfully downloaded and installed.\n",
            "\n",
            "\n",
            "To activate EDirect for this terminal session, please execute the following:\n",
            "\n",
            "export PATH=${PATH}:${HOME}/edirect\n",
            "\n"
          ]
        }
      ],
      "source": [
        "!sh -c \"$(curl -fsSL ftp://ftp.ncbi.nlm.nih.gov/entrez/entrezdirect/install-edirect.sh)\""
      ]
    },
    {
      "cell_type": "code",
      "source": [
        "!$HOME/edirect/efetch -db nuccore -id HF680312 -format gb  >  T_oleivorans_MIL_1.gbk"
      ],
      "metadata": {
        "id": "tdiKn0-mduZ-"
      },
      "execution_count": 76,
      "outputs": []
    },
    {
      "cell_type": "markdown",
      "source": [
        "# Установка програм "
      ],
      "metadata": {
        "id": "GxMG_d0Pd3lc"
      }
    },
    {
      "cell_type": "code",
      "source": [
        "!pip install biopython"
      ],
      "metadata": {
        "colab": {
          "base_uri": "https://localhost:8080/"
        },
        "id": "MhDe8g4Md1xI",
        "outputId": "9214b93e-e4b0-4737-8217-efc0b07d992c"
      },
      "execution_count": 77,
      "outputs": [
        {
          "output_type": "stream",
          "name": "stdout",
          "text": [
            "Looking in indexes: https://pypi.org/simple, https://us-python.pkg.dev/colab-wheels/public/simple/\n",
            "Requirement already satisfied: biopython in /usr/local/lib/python3.7/dist-packages (1.79)\n",
            "Requirement already satisfied: numpy in /usr/local/lib/python3.7/dist-packages (from biopython) (1.21.6)\n"
          ]
        }
      ]
    },
    {
      "cell_type": "code",
      "source": [
        "!apt-get update"
      ],
      "metadata": {
        "colab": {
          "base_uri": "https://localhost:8080/"
        },
        "id": "0pMmDNhreA33",
        "outputId": "b123b78b-96f8-44ea-f625-528927d6435a"
      },
      "execution_count": 78,
      "outputs": [
        {
          "output_type": "stream",
          "name": "stdout",
          "text": [
            "\r0% [Working]\r            \rGet:1 http://security.ubuntu.com/ubuntu bionic-security InRelease [88.7 kB]\n",
            "\r0% [Waiting for headers] [1 InRelease 14.2 kB/88.7 kB 16%] [Connected to cloud.\r                                                                               \rHit:2 https://cloud.r-project.org/bin/linux/ubuntu bionic-cran40/ InRelease\n",
            "\r0% [Waiting for headers] [1 InRelease 43.1 kB/88.7 kB 49%] [Connected to develo\r                                                                               \rHit:3 http://archive.ubuntu.com/ubuntu bionic InRelease\n",
            "\r0% [Waiting for headers] [1 InRelease 43.1 kB/88.7 kB 49%] [Waiting for headers\r0% [2 InRelease gpgv 3,626 B] [Waiting for headers] [1 InRelease 43.1 kB/88.7 k\r                                                                               \rGet:4 http://archive.ubuntu.com/ubuntu bionic-updates InRelease [88.7 kB]\n",
            "\r0% [2 InRelease gpgv 3,626 B] [4 InRelease 14.2 kB/88.7 kB 16%] [1 InRelease 46\r0% [2 InRelease gpgv 3,626 B] [4 InRelease 21.4 kB/88.7 kB 24%] [Waiting for he\r0% [2 InRelease gpgv 3,626 B] [Waiting for headers] [Waiting for headers] [Wait\r                                                                               \rGet:5 http://archive.ubuntu.com/ubuntu bionic-backports InRelease [83.3 kB]\n",
            "\r0% [2 InRelease gpgv 3,626 B] [5 InRelease 9,844 B/83.3 kB 12%] [Waiting for he\r                                                                               \r0% [2 InRelease gpgv 3,626 B] [Waiting for headers] [Waiting for headers]\r                                                                         \rGet:6 http://ppa.launchpad.net/c2d4u.team/c2d4u4.0+/ubuntu bionic InRelease [15.9 kB]\n",
            "\r0% [2 InRelease gpgv 3,626 B] [Waiting for headers] [6 InRelease 1,124 B/15.9 k\r                                                                               \rIgn:7 https://developer.download.nvidia.com/compute/machine-learning/repos/ubuntu1804/x86_64  InRelease\n",
            "\r0% [2 InRelease gpgv 3,626 B] [Waiting for headers] [6 InRelease 14.2 kB/15.9 k\r                                                                               \rHit:8 https://developer.download.nvidia.com/compute/cuda/repos/ubuntu1804/x86_64  InRelease\n",
            "Hit:9 https://developer.download.nvidia.com/compute/machine-learning/repos/ubuntu1804/x86_64  Release\n",
            "Hit:10 http://ppa.launchpad.net/cran/libgit2/ubuntu bionic InRelease\n",
            "Hit:11 http://ppa.launchpad.net/deadsnakes/ppa/ubuntu bionic InRelease\n",
            "Hit:12 http://ppa.launchpad.net/graphics-drivers/ppa/ubuntu bionic InRelease\n",
            "Get:13 http://ppa.launchpad.net/c2d4u.team/c2d4u4.0+/ubuntu bionic/main Sources [2,165 kB]\n",
            "Get:15 http://ppa.launchpad.net/c2d4u.team/c2d4u4.0+/ubuntu bionic/main amd64 Packages [1,109 kB]\n",
            "Fetched 3,551 kB in 3s (1,158 kB/s)\n",
            "Reading package lists... Done\n"
          ]
        }
      ]
    },
    {
      "cell_type": "code",
      "source": [
        "!apt-get install ncbi-blast+"
      ],
      "metadata": {
        "colab": {
          "base_uri": "https://localhost:8080/"
        },
        "id": "XPD8s3DbeC5B",
        "outputId": "4f439612-6fee-40d7-ed88-1c71b8f78496"
      },
      "execution_count": 79,
      "outputs": [
        {
          "output_type": "stream",
          "name": "stdout",
          "text": [
            "Reading package lists... Done\n",
            "Building dependency tree       \n",
            "Reading state information... Done\n",
            "ncbi-blast+ is already the newest version (2.6.0-1).\n",
            "The following package was automatically installed and is no longer required:\n",
            "  libnvidia-common-460\n",
            "Use 'apt autoremove' to remove it.\n",
            "0 upgraded, 0 newly installed, 0 to remove and 37 not upgraded.\n"
          ]
        }
      ]
    },
    {
      "cell_type": "code",
      "source": [
        "!blastn -help"
      ],
      "metadata": {
        "colab": {
          "base_uri": "https://localhost:8080/"
        },
        "id": "EbJLs3ZteTv2",
        "outputId": "00b8f0ff-3d6b-4f9f-c419-fba95391e558"
      },
      "execution_count": 80,
      "outputs": [
        {
          "output_type": "stream",
          "name": "stdout",
          "text": [
            "USAGE\n",
            "  blastn [-h] [-help] [-import_search_strategy filename]\n",
            "    [-export_search_strategy filename] [-task task_name] [-db database_name]\n",
            "    [-dbsize num_letters] [-gilist filename] [-seqidlist filename]\n",
            "    [-negative_gilist filename] [-entrez_query entrez_query]\n",
            "    [-db_soft_mask filtering_algorithm] [-db_hard_mask filtering_algorithm]\n",
            "    [-subject subject_input_file] [-subject_loc range] [-query input_file]\n",
            "    [-out output_file] [-evalue evalue] [-word_size int_value]\n",
            "    [-gapopen open_penalty] [-gapextend extend_penalty]\n",
            "    [-perc_identity float_value] [-qcov_hsp_perc float_value]\n",
            "    [-max_hsps int_value] [-xdrop_ungap float_value] [-xdrop_gap float_value]\n",
            "    [-xdrop_gap_final float_value] [-searchsp int_value]\n",
            "    [-sum_stats bool_value] [-penalty penalty] [-reward reward] [-no_greedy]\n",
            "    [-min_raw_gapped_score int_value] [-template_type type]\n",
            "    [-template_length int_value] [-dust DUST_options]\n",
            "    [-filtering_db filtering_database]\n",
            "    [-window_masker_taxid window_masker_taxid]\n",
            "    [-window_masker_db window_masker_db] [-soft_masking soft_masking]\n",
            "    [-ungapped] [-culling_limit int_value] [-best_hit_overhang float_value]\n",
            "    [-best_hit_score_edge float_value] [-window_size int_value]\n",
            "    [-off_diagonal_range int_value] [-use_index boolean] [-index_name string]\n",
            "    [-lcase_masking] [-query_loc range] [-strand strand] [-parse_deflines]\n",
            "    [-outfmt format] [-show_gis] [-num_descriptions int_value]\n",
            "    [-num_alignments int_value] [-line_length line_length] [-html]\n",
            "    [-max_target_seqs num_sequences] [-num_threads int_value] [-remote]\n",
            "    [-version]\n",
            "\n",
            "DESCRIPTION\n",
            "   Nucleotide-Nucleotide BLAST 2.6.0+\n",
            "\n",
            "OPTIONAL ARGUMENTS\n",
            " -h\n",
            "   Print USAGE and DESCRIPTION;  ignore all other parameters\n",
            " -help\n",
            "   Print USAGE, DESCRIPTION and ARGUMENTS; ignore all other parameters\n",
            " -version\n",
            "   Print version number;  ignore other arguments\n",
            "\n",
            " *** Input query options\n",
            " -query <File_In>\n",
            "   Input file name\n",
            "   Default = `-'\n",
            " -query_loc <String>\n",
            "   Location on the query sequence in 1-based offsets (Format: start-stop)\n",
            " -strand <String, `both', `minus', `plus'>\n",
            "   Query strand(s) to search against database/subject\n",
            "   Default = `both'\n",
            "\n",
            " *** General search options\n",
            " -task <String, Permissible values: 'blastn' 'blastn-short' 'dc-megablast'\n",
            "                'megablast' 'rmblastn' >\n",
            "   Task to execute\n",
            "   Default = `megablast'\n",
            " -db <String>\n",
            "   BLAST database name\n",
            "    * Incompatible with:  subject, subject_loc\n",
            " -out <File_Out>\n",
            "   Output file name\n",
            "   Default = `-'\n",
            " -evalue <Real>\n",
            "   Expectation value (E) threshold for saving hits \n",
            "   Default = `10'\n",
            " -word_size <Integer, >=4>\n",
            "   Word size for wordfinder algorithm (length of best perfect match)\n",
            " -gapopen <Integer>\n",
            "   Cost to open a gap\n",
            " -gapextend <Integer>\n",
            "   Cost to extend a gap\n",
            " -penalty <Integer, <=0>\n",
            "   Penalty for a nucleotide mismatch\n",
            " -reward <Integer, >=0>\n",
            "   Reward for a nucleotide match\n",
            " -use_index <Boolean>\n",
            "   Use MegaBLAST database index\n",
            "   Default = `false'\n",
            " -index_name <String>\n",
            "   MegaBLAST database index name (deprecated; use only for old style indices)\n",
            "\n",
            " *** BLAST-2-Sequences options\n",
            " -subject <File_In>\n",
            "   Subject sequence(s) to search\n",
            "    * Incompatible with:  db, gilist, seqidlist, negative_gilist,\n",
            "   db_soft_mask, db_hard_mask\n",
            " -subject_loc <String>\n",
            "   Location on the subject sequence in 1-based offsets (Format: start-stop)\n",
            "    * Incompatible with:  db, gilist, seqidlist, negative_gilist,\n",
            "   db_soft_mask, db_hard_mask, remote\n",
            "\n",
            " *** Formatting options\n",
            " -outfmt <String>\n",
            "   alignment view options:\n",
            "     0 = Pairwise,\n",
            "     1 = Query-anchored showing identities,\n",
            "     2 = Query-anchored no identities,\n",
            "     3 = Flat query-anchored showing identities,\n",
            "     4 = Flat query-anchored no identities,\n",
            "     5 = BLAST XML,\n",
            "     6 = Tabular,\n",
            "     7 = Tabular with comment lines,\n",
            "     8 = Seqalign (Text ASN.1),\n",
            "     9 = Seqalign (Binary ASN.1),\n",
            "    10 = Comma-separated values,\n",
            "    11 = BLAST archive (ASN.1),\n",
            "    12 = Seqalign (JSON),\n",
            "    13 = Multiple-file BLAST JSON,\n",
            "    14 = Multiple-file BLAST XML2,\n",
            "    15 = Single-file BLAST JSON,\n",
            "    16 = Single-file BLAST XML2,\n",
            "    17 = Sequence Alignment/Map (SAM),\n",
            "    18 = Organism Report\n",
            "   \n",
            "   Options 6, 7, 10 and 17 can be additionally configured to produce\n",
            "   a custom format specified by space delimited format specifiers.\n",
            "   The supported format specifiers for options 6, 7 and 10 are:\n",
            "   \t    qseqid means Query Seq-id\n",
            "   \t       qgi means Query GI\n",
            "   \t      qacc means Query accesion\n",
            "   \t   qaccver means Query accesion.version\n",
            "   \t      qlen means Query sequence length\n",
            "   \t    sseqid means Subject Seq-id\n",
            "   \t sallseqid means All subject Seq-id(s), separated by a ';'\n",
            "   \t       sgi means Subject GI\n",
            "   \t    sallgi means All subject GIs\n",
            "   \t      sacc means Subject accession\n",
            "   \t   saccver means Subject accession.version\n",
            "   \t   sallacc means All subject accessions\n",
            "   \t      slen means Subject sequence length\n",
            "   \t    qstart means Start of alignment in query\n",
            "   \t      qend means End of alignment in query\n",
            "   \t    sstart means Start of alignment in subject\n",
            "   \t      send means End of alignment in subject\n",
            "   \t      qseq means Aligned part of query sequence\n",
            "   \t      sseq means Aligned part of subject sequence\n",
            "   \t    evalue means Expect value\n",
            "   \t  bitscore means Bit score\n",
            "   \t     score means Raw score\n",
            "   \t    length means Alignment length\n",
            "   \t    pident means Percentage of identical matches\n",
            "   \t    nident means Number of identical matches\n",
            "   \t  mismatch means Number of mismatches\n",
            "   \t  positive means Number of positive-scoring matches\n",
            "   \t   gapopen means Number of gap openings\n",
            "   \t      gaps means Total number of gaps\n",
            "   \t      ppos means Percentage of positive-scoring matches\n",
            "   \t    frames means Query and subject frames separated by a '/'\n",
            "   \t    qframe means Query frame\n",
            "   \t    sframe means Subject frame\n",
            "   \t      btop means Blast traceback operations (BTOP)\n",
            "   \t    staxid means Subject Taxonomy ID\n",
            "   \t  ssciname means Subject Scientific Name\n",
            "   \t  scomname means Subject Common Name\n",
            "   \tsblastname means Subject Blast Name\n",
            "   \t sskingdom means Subject Super Kingdom\n",
            "   \t   staxids means unique Subject Taxonomy ID(s), separated by a ';'\n",
            "   \t\t\t (in numerical order)\n",
            "   \t sscinames means unique Subject Scientific Name(s), separated by a ';'\n",
            "   \t scomnames means unique Subject Common Name(s), separated by a ';'\n",
            "   \tsblastnames means unique Subject Blast Name(s), separated by a ';'\n",
            "   \t\t\t (in alphabetical order)\n",
            "   \tsskingdoms means unique Subject Super Kingdom(s), separated by a ';'\n",
            "   \t\t\t (in alphabetical order) \n",
            "   \t    stitle means Subject Title\n",
            "   \tsalltitles means All Subject Title(s), separated by a '<>'\n",
            "   \t   sstrand means Subject Strand\n",
            "   \t     qcovs means Query Coverage Per Subject\n",
            "   \t   qcovhsp means Query Coverage Per HSP\n",
            "   \t    qcovus means Query Coverage Per Unique Subject (blastn only)\n",
            "   When not provided, the default value is:\n",
            "   'qaccver saccver pident length mismatch gapopen qstart qend sstart send\n",
            "   evalue bitscore', which is equivalent to the keyword 'std'\n",
            "   The supported format specifier for option 17 is:\n",
            "   \t        SQ means Include Sequence Data\n",
            "   \t        SR means Subject as Reference Seq\n",
            "   Default = `0'\n",
            " -show_gis\n",
            "   Show NCBI GIs in deflines?\n",
            " -num_descriptions <Integer, >=0>\n",
            "   Number of database sequences to show one-line descriptions for\n",
            "   Not applicable for outfmt > 4\n",
            "   Default = `500'\n",
            "    * Incompatible with:  max_target_seqs\n",
            " -num_alignments <Integer, >=0>\n",
            "   Number of database sequences to show alignments for\n",
            "   Default = `250'\n",
            "    * Incompatible with:  max_target_seqs\n",
            " -line_length <Integer, >=1>\n",
            "   Line length for formatting alignments\n",
            "   Not applicable for outfmt > 4\n",
            "   Default = `60'\n",
            " -html\n",
            "   Produce HTML output?\n",
            "\n",
            " *** Query filtering options\n",
            " -dust <String>\n",
            "   Filter query sequence with DUST (Format: 'yes', 'level window linker', or\n",
            "   'no' to disable)\n",
            "   Default = `20 64 1'\n",
            " -filtering_db <String>\n",
            "   BLAST database containing filtering elements (i.e.: repeats)\n",
            " -window_masker_taxid <Integer>\n",
            "   Enable WindowMasker filtering using a Taxonomic ID\n",
            " -window_masker_db <String>\n",
            "   Enable WindowMasker filtering using this repeats database.\n",
            " -soft_masking <Boolean>\n",
            "   Apply filtering locations as soft masks\n",
            "   Default = `true'\n",
            " -lcase_masking\n",
            "   Use lower case filtering in query and subject sequence(s)?\n",
            "\n",
            " *** Restrict search or results\n",
            " -gilist <String>\n",
            "   Restrict search of database to list of GI's\n",
            "    * Incompatible with:  negative_gilist, seqidlist, remote, subject,\n",
            "   subject_loc\n",
            " -seqidlist <String>\n",
            "   Restrict search of database to list of SeqId's\n",
            "    * Incompatible with:  gilist, negative_gilist, remote, subject,\n",
            "   subject_loc\n",
            " -negative_gilist <String>\n",
            "   Restrict search of database to everything except the listed GIs\n",
            "    * Incompatible with:  gilist, seqidlist, remote, subject, subject_loc\n",
            " -entrez_query <String>\n",
            "   Restrict search with the given Entrez query\n",
            "    * Requires:  remote\n",
            " -db_soft_mask <String>\n",
            "   Filtering algorithm ID to apply to the BLAST database as soft masking\n",
            "    * Incompatible with:  db_hard_mask, subject, subject_loc\n",
            " -db_hard_mask <String>\n",
            "   Filtering algorithm ID to apply to the BLAST database as hard masking\n",
            "    * Incompatible with:  db_soft_mask, subject, subject_loc\n",
            " -perc_identity <Real, 0..100>\n",
            "   Percent identity\n",
            " -qcov_hsp_perc <Real, 0..100>\n",
            "   Percent query coverage per hsp\n",
            " -max_hsps <Integer, >=1>\n",
            "   Set maximum number of HSPs per subject sequence to save for each query\n",
            " -culling_limit <Integer, >=0>\n",
            "   If the query range of a hit is enveloped by that of at least this many\n",
            "   higher-scoring hits, delete the hit\n",
            "    * Incompatible with:  best_hit_overhang, best_hit_score_edge\n",
            " -best_hit_overhang <Real, (>0 and <0.5)>\n",
            "   Best Hit algorithm overhang value (recommended value: 0.1)\n",
            "    * Incompatible with:  culling_limit\n",
            " -best_hit_score_edge <Real, (>0 and <0.5)>\n",
            "   Best Hit algorithm score edge value (recommended value: 0.1)\n",
            "    * Incompatible with:  culling_limit\n",
            " -max_target_seqs <Integer, >=1>\n",
            "   Maximum number of aligned sequences to keep \n",
            "   Not applicable for outfmt <= 4\n",
            "   Default = `500'\n",
            "    * Incompatible with:  num_descriptions, num_alignments\n",
            "\n",
            " *** Discontiguous MegaBLAST options\n",
            " -template_type <String, `coding', `coding_and_optimal', `optimal'>\n",
            "   Discontiguous MegaBLAST template type\n",
            "    * Requires:  template_length\n",
            " -template_length <Integer, Permissible values: '16' '18' '21' >\n",
            "   Discontiguous MegaBLAST template length\n",
            "    * Requires:  template_type\n",
            "\n",
            " *** Statistical options\n",
            " -dbsize <Int8>\n",
            "   Effective length of the database \n",
            " -searchsp <Int8, >=0>\n",
            "   Effective length of the search space\n",
            " -sum_stats <Boolean>\n",
            "   Use sum statistics\n",
            "\n",
            " *** Search strategy options\n",
            " -import_search_strategy <File_In>\n",
            "   Search strategy to use\n",
            "    * Incompatible with:  export_search_strategy\n",
            " -export_search_strategy <File_Out>\n",
            "   File name to record the search strategy used\n",
            "    * Incompatible with:  import_search_strategy\n",
            "\n",
            " *** Extension options\n",
            " -xdrop_ungap <Real>\n",
            "   X-dropoff value (in bits) for ungapped extensions\n",
            " -xdrop_gap <Real>\n",
            "   X-dropoff value (in bits) for preliminary gapped extensions\n",
            " -xdrop_gap_final <Real>\n",
            "   X-dropoff value (in bits) for final gapped alignment\n",
            " -no_greedy\n",
            "   Use non-greedy dynamic programming extension\n",
            " -min_raw_gapped_score <Integer>\n",
            "   Minimum raw gapped score to keep an alignment in the preliminary gapped and\n",
            "   traceback stages\n",
            " -ungapped\n",
            "   Perform ungapped alignment only?\n",
            " -window_size <Integer, >=0>\n",
            "   Multiple hits window size, use 0 to specify 1-hit algorithm\n",
            " -off_diagonal_range <Integer, >=0>\n",
            "   Number of off-diagonals to search for the 2nd hit, use 0 to turn off\n",
            "   Default = `0'\n",
            "\n",
            " *** Miscellaneous options\n",
            " -parse_deflines\n",
            "   Should the query and subject defline(s) be parsed?\n",
            " -num_threads <Integer, >=1>\n",
            "   Number of threads (CPUs) to use in the BLAST search\n",
            "   Default = `1'\n",
            "    * Incompatible with:  remote\n",
            " -remote\n",
            "   Execute search remotely?\n",
            "    * Incompatible with:  gilist, seqidlist, negative_gilist, subject_loc,\n",
            "   num_threads\n",
            "\n"
          ]
        }
      ]
    },
    {
      "cell_type": "markdown",
      "source": [
        "Прочитать подробнее можно тут https://www.ncbi.nlm.nih.gov/books/NBK279690/ "
      ],
      "metadata": {
        "id": "fJL5gxFlhnw7"
      }
    },
    {
      "cell_type": "markdown",
      "source": [
        "# Предсказание рибосомальной рнк"
      ],
      "metadata": {
        "id": "w5_RP4Yafn_i"
      }
    },
    {
      "cell_type": "code",
      "source": [
        "from Bio import SeqIO\n",
        "from Bio.SeqFeature import SeqFeature, FeatureLocation\n",
        "import re"
      ],
      "metadata": {
        "id": "mnSw5EIKRs2c"
      },
      "execution_count": 81,
      "outputs": []
    },
    {
      "cell_type": "code",
      "source": [
        "!wget https://raw.githubusercontent.com/KatyaKaravaeva/hse22_hw1/main/Data/Poil_gapClosed.fa"
      ],
      "metadata": {
        "colab": {
          "base_uri": "https://localhost:8080/"
        },
        "id": "XMDwfiYSSScx",
        "outputId": "e70abf1a-dab5-42e2-e84e-22af79fa31a1"
      },
      "execution_count": 82,
      "outputs": [
        {
          "output_type": "stream",
          "name": "stdout",
          "text": [
            "--2022-10-19 18:27:48--  https://raw.githubusercontent.com/KatyaKaravaeva/hse22_hw1/main/Data/Poil_gapClosed.fa\n",
            "Resolving raw.githubusercontent.com (raw.githubusercontent.com)... 185.199.108.133, 185.199.109.133, 185.199.110.133, ...\n",
            "Connecting to raw.githubusercontent.com (raw.githubusercontent.com)|185.199.108.133|:443... connected.\n",
            "HTTP request sent, awaiting response... 200 OK\n",
            "Length: 3975254 (3.8M) [text/plain]\n",
            "Saving to: ‘Poil_gapClosed.fa’\n",
            "\n",
            "Poil_gapClosed.fa   100%[===================>]   3.79M  --.-KB/s    in 0.02s   \n",
            "\n",
            "2022-10-19 18:27:48 (197 MB/s) - ‘Poil_gapClosed.fa’ saved [3975254/3975254]\n",
            "\n"
          ]
        }
      ]
    },
    {
      "cell_type": "code",
      "source": [
        "!wget https://raw.githubusercontent.com/KatyaKaravaeva/hse22_hw2/main/Data/scaffolds.hits_from_MIL_1.txt"
      ],
      "metadata": {
        "colab": {
          "base_uri": "https://localhost:8080/"
        },
        "id": "pP2IElEMT34G",
        "outputId": "d5675edf-b679-4601-8c18-cb9ed12fce68"
      },
      "execution_count": 83,
      "outputs": [
        {
          "output_type": "stream",
          "name": "stdout",
          "text": [
            "--2022-10-19 18:27:48--  https://raw.githubusercontent.com/KatyaKaravaeva/hse22_hw2/main/Data/scaffolds.hits_from_MIL_1.txt\n",
            "Resolving raw.githubusercontent.com (raw.githubusercontent.com)... 185.199.108.133, 185.199.109.133, 185.199.110.133, ...\n",
            "Connecting to raw.githubusercontent.com (raw.githubusercontent.com)|185.199.108.133|:443... connected.\n",
            "HTTP request sent, awaiting response... 200 OK\n",
            "Length: 869871 (849K) [text/plain]\n",
            "Saving to: ‘scaffolds.hits_from_MIL_1.txt’\n",
            "\n",
            "scaffolds.hits_from 100%[===================>] 849.48K  --.-KB/s    in 0.008s  \n",
            "\n",
            "2022-10-19 18:27:48 (101 MB/s) - ‘scaffolds.hits_from_MIL_1.txt’ saved [869871/869871]\n",
            "\n"
          ]
        }
      ]
    },
    {
      "cell_type": "markdown",
      "source": [
        "**Чтение из файла T_oleivorans_MIL_1.gbk, а также нахождение начала, конца и знака стренда в рРНК** "
      ],
      "metadata": {
        "id": "Vtfyou2mVP0s"
      }
    },
    {
      "cell_type": "code",
      "source": [
        "path = \"T_oleivorans_MIL_1.gbk\"\n",
        "coords_start = []\n",
        "coords_end = []\n",
        "coords_st = []\n",
        "data = SeqIO.read(\"T_oleivorans_MIL_1.gbk\", \"genbank\")\n",
        "display(data)\n",
        "for f in SeqIO.read(path, \"genbank\").features:\n",
        "  if f.type == 'rRNA':\n",
        "    coords_start.append(int(f.location.start))\n",
        "    coords_end.append(int(f.location.end))\n",
        "    coords_st.append(f.strand)\n",
        "print(\"start\", coords_start)\n",
        "print(\"end\", coords_end)\n",
        "print(\"st\", coords_st)"
      ],
      "metadata": {
        "colab": {
          "base_uri": "https://localhost:8080/",
          "height": 104
        },
        "id": "1S-UWIQpSZ7U",
        "outputId": "577fdb5a-652d-481f-c7e4-69d18f852efd"
      },
      "execution_count": 84,
      "outputs": [
        {
          "output_type": "display_data",
          "data": {
            "text/plain": [
              "SeqRecord(seq=Seq('TTGGGTAGAATGGCTGGCTCGATTGAAATCTTTGATGACGCTAGTAACAGGGGT...CTC'), id='HF680312.1', name='HF680312', description='Thalassolituus oleivorans MIL-1 complete genome', dbxrefs=['BioProject:PRJEB1425', 'BioSample:SAMEA2272589'])"
            ]
          },
          "metadata": {}
        },
        {
          "output_type": "stream",
          "name": "stdout",
          "text": [
            "start [341494, 343487, 346568, 2580484, 2580781, 2583918, 3418645, 3418942, 3422079, 3423993, 3424290, 3427427]\n",
            "end [343033, 346374, 346684, 2580600, 2583668, 2585457, 3418761, 3421829, 3423618, 3424109, 3427177, 3428966]\n",
            "st [1, 1, 1, -1, -1, -1, -1, -1, -1, -1, -1, -1]\n"
          ]
        }
      ]
    },
    {
      "cell_type": "code",
      "source": [
        "f = open('resSeq.fasta', 'w')\n",
        "for i in range(len(coords_st)):\n",
        "  f.write(f'> rRNA {coords_start[i]}...{coords_end[i]}\\n')\n",
        "  f.write(str(data.seq[coords_start[i]:coords_end[i]]) + '\\n')\n",
        "f.close()"
      ],
      "metadata": {
        "id": "WgBMRBHFUg9F"
      },
      "execution_count": 85,
      "outputs": []
    },
    {
      "cell_type": "code",
      "source": [
        "# Ваш код\n",
        "!blastn -query resSeq.fasta -subject Poil_gapClosed.fa > Data_inform.gbk"
      ],
      "metadata": {
        "id": "fng793_WepS2"
      },
      "execution_count": 86,
      "outputs": []
    },
    {
      "cell_type": "code",
      "source": [
        "path = \"Data_inform.gbk\"\n",
        "f = open(path, 'r')\n",
        "for_look = 'no'\n",
        "al = []\n",
        "percent = []\n",
        "cur = []\n",
        "choose = [\"Query=\", \">\", \"Identities\"]\n",
        "for string in f:\n",
        "  string = string.split()\n",
        "  #print(string)\n",
        "  if string != []: \n",
        "    if string[0] == choose[0]:\n",
        "      if for_look == 'no':\n",
        "        for_look = 'yes'\n",
        "        remem = string[2]\n",
        "      percent.append(cur)\n",
        "      if al != []:\n",
        "        print(f'Resemblance rRna {remem}')\n",
        "        for ind in range(len(al)):\n",
        "          print(\"For seq =\", al[ind], \" percents :\", percent[ind], \"\\n\")\n",
        "        for_look == 'no'\n",
        "      al = []\n",
        "      percent = []\n",
        "    elif string[0] == choose[1]: \n",
        "      if al != []:\n",
        "        percent.append(cur)\n",
        "      cur = []\n",
        "      al.append(string[1])\n",
        "    elif string[0] == choose[2]:\n",
        "      cur.append(string[3][1:-2:])"
      ],
      "metadata": {
        "colab": {
          "base_uri": "https://localhost:8080/"
        },
        "id": "4ZBexDd_pRnb",
        "outputId": "b433d97c-462f-4625-91e5-c1bb123accd2"
      },
      "execution_count": 108,
      "outputs": [
        {
          "output_type": "stream",
          "name": "stdout",
          "text": [
            "Resemblance rRna 341494...343033\n",
            "For seq = scaffold1_cov231  percents : ['100%', '99%', '99%'] \n",
            "\n",
            "For seq = scaffold39_cov590  percents : ['100%'] \n",
            "\n",
            "Resemblance rRna 341494...343033\n",
            "For seq = scaffold1_cov231  percents : ['100%', '99%', '99%'] \n",
            "\n",
            "For seq = scaffold50_cov581  percents : ['100%'] \n",
            "\n",
            "For seq = scaffold47_cov598  percents : ['100%'] \n",
            "\n",
            "For seq = scaffold56_cov640  percents : ['100%'] \n",
            "\n",
            "Resemblance rRna 341494...343033\n",
            "For seq = scaffold1_cov231  percents : ['100%', '100%', '100%'] \n",
            "\n",
            "For seq = scaffold50_cov581  percents : ['100%'] \n",
            "\n",
            "Resemblance rRna 341494...343033\n",
            "For seq = scaffold1_cov231  percents : ['98%', '98%', '98%'] \n",
            "\n",
            "For seq = scaffold50_cov581  percents : ['99%'] \n",
            "\n",
            "Resemblance rRna 341494...343033\n",
            "For seq = scaffold1_cov231  percents : ['100%', '99%', '99%'] \n",
            "\n",
            "For seq = scaffold50_cov581  percents : ['100%'] \n",
            "\n",
            "For seq = scaffold47_cov598  percents : ['100%'] \n",
            "\n",
            "For seq = scaffold56_cov640  percents : ['100%'] \n",
            "\n",
            "Resemblance rRna 341494...343033\n",
            "For seq = scaffold1_cov231  percents : ['99%', '99%', '99%'] \n",
            "\n",
            "For seq = scaffold39_cov590  percents : ['99%'] \n",
            "\n",
            "Resemblance rRna 341494...343033\n",
            "For seq = scaffold1_cov231  percents : ['100%', '100%', '100%'] \n",
            "\n",
            "For seq = scaffold50_cov581  percents : ['100%'] \n",
            "\n",
            "Resemblance rRna 341494...343033\n",
            "For seq = scaffold1_cov231  percents : ['100%', '99%', '99%'] \n",
            "\n",
            "For seq = scaffold50_cov581  percents : ['100%'] \n",
            "\n",
            "For seq = scaffold47_cov598  percents : ['100%'] \n",
            "\n",
            "For seq = scaffold56_cov640  percents : ['100%'] \n",
            "\n",
            "Resemblance rRna 341494...343033\n",
            "For seq = scaffold1_cov231  percents : ['99%', '99%', '99%'] \n",
            "\n",
            "For seq = scaffold39_cov590  percents : ['99%'] \n",
            "\n",
            "Resemblance rRna 341494...343033\n",
            "For seq = scaffold1_cov231  percents : ['100%', '100%', '100%'] \n",
            "\n",
            "For seq = scaffold50_cov581  percents : ['100%'] \n",
            "\n",
            "Resemblance rRna 341494...343033\n",
            "For seq = scaffold1_cov231  percents : ['100%', '99%', '99%'] \n",
            "\n",
            "For seq = scaffold50_cov581  percents : ['100%'] \n",
            "\n",
            "For seq = scaffold47_cov598  percents : ['100%'] \n",
            "\n",
            "For seq = scaffold56_cov640  percents : ['100%'] \n",
            "\n"
          ]
        }
      ]
    }
  ]
}